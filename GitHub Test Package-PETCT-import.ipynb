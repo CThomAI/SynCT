{
 "cells": [
  {
   "cell_type": "markdown",
   "metadata": {},
   "source": [
    "1. Import CTpet and PET data"
   ]
  },
  {
   "cell_type": "code",
   "execution_count": null,
   "metadata": {},
   "outputs": [],
   "source": [
    "## https://gist.github.com/somada141/8dd67a02e330a657cf9e"
   ]
  },
  {
   "cell_type": "code",
   "execution_count": null,
   "metadata": {},
   "outputs": [],
   "source": [
    "## note that the PET and CT will have different number of slices and will be of different dimensions"
   ]
  },
  {
   "cell_type": "code",
   "execution_count": null,
   "metadata": {},
   "outputs": [],
   "source": []
  },
  {
   "cell_type": "code",
   "execution_count": null,
   "metadata": {},
   "outputs": [],
   "source": [
    "from matplotlib import pyplot as plt"
   ]
  },
  {
   "cell_type": "code",
   "execution_count": null,
   "metadata": {},
   "outputs": [],
   "source": [
    "import dicom\n",
    "import os\n",
    "import numpy as np"
   ]
  },
  {
   "cell_type": "code",
   "execution_count": null,
   "metadata": {},
   "outputs": [],
   "source": [
    "Patients= ((0,41,120,154),\n",
    "           (1,25,80,125),\n",
    "           (2,41,101,133),\n",
    "           (3,43,93,152),\n",
    "           (4,44,129,176),\n",
    "           (5,68,134,172),\n",
    "           (6,39,104,139),\n",
    "           (7,41,97,116),\n",
    "           (8,43,102,140),\n",
    "           (9,50,149,192),\n",
    "           (10,51,129,176),\n",
    "           (11,28,80,128))\n"
   ]
  },
  {
   "cell_type": "code",
   "execution_count": null,
   "metadata": {},
   "outputs": [],
   "source": [
    "np.shape(Patients)"
   ]
  },
  {
   "cell_type": "code",
   "execution_count": null,
   "metadata": {},
   "outputs": [],
   "source": [
    "Patients[2][0]"
   ]
  },
  {
   "cell_type": "code",
   "execution_count": null,
   "metadata": {},
   "outputs": [],
   "source": [
    "baseCT = \"D:/CNNdata/Bowel_Segmentation/RATHL_Data_for_Testing/CT\"\n",
    "basePET = \"D:/CNNdata/Bowel_Segmentation/RATHL_Data_for_Testing/PT\"\n",
    "\n",
    "TestData = 10\n",
    "\n",
    "ID = Patients[TestData][0]\n",
    "BBinf = Patients[TestData][1]\n",
    "BBsup = Patients[TestData][2]\n",
    "\n",
    "PathDicomCT = os.path.join(str(baseCT) + str(ID))\n",
    "lstFilesDCM_CT = []  # create an empty list\n",
    "for dirName, subdirList, fileList in os.walk(PathDicomCT):\n",
    "    for filename in fileList:\n",
    "        if \".dcm\" in filename.lower():  # check whether the file's DICOM\n",
    "            lstFilesDCM_CT.append(os.path.join(dirName,filename))\n",
    "\n",
    "PathDicomPET = os.path.join(str(basePET) + str(ID))\n",
    "lstFilesDCM_PET = []  # create an empty list\n",
    "for dirName, subdirList, fileList in os.walk(PathDicomPET):\n",
    "    for filename in fileList:\n",
    "        if \".dcm\" in filename.lower():  # check whether the file's DICOM\n",
    "            lstFilesDCM_PET.append(os.path.join(dirName,filename))\n",
    "            \n"
   ]
  },
  {
   "cell_type": "code",
   "execution_count": null,
   "metadata": {},
   "outputs": [],
   "source": [
    "# basePET = \"D:/CNNdata/Bowel_Segmentation/RATHL_Data_for_Testing/PT\"\n",
    "\n",
    "# PathDicomPET = os.path.join(str(basePET) + str(ID))\n",
    "# lstFilesDCM_PET = []  # create an empty list\n",
    "# for dirName, subdirList, fileList in os.walk(PathDicomPET):\n",
    "#     for filename in fileList:\n",
    "#         if \".dcm\" in filename.lower():  # check whether the file's DICOM\n",
    "#             lstFilesDCM_PET.append(os.path.join(dirName,filename))"
   ]
  },
  {
   "cell_type": "code",
   "execution_count": null,
   "metadata": {},
   "outputs": [],
   "source": [
    "print(TestData)\n",
    "print(BBinf)\n",
    "print(BBsup)"
   ]
  },
  {
   "cell_type": "code",
   "execution_count": null,
   "metadata": {},
   "outputs": [],
   "source": [
    "# Get ref file\n",
    "RefCT = dicom.read_file(lstFilesDCM_CT[0])\n",
    "# Load dimensions based on the number of rows, columns, and slices (along the Z axis)\n",
    "ConstPixelDims = (int(RefCT.Rows), int(RefCT.Columns), len(lstFilesDCM_CT))\n",
    "# Load spacing values (in mm)\n",
    "ConstPixelSpacing = (float(RefCT.PixelSpacing[0]), float(RefCT.PixelSpacing[1]), float(RefCT.SliceThickness))\n",
    "CTReconDiameter = round((RefCT.PixelSpacing[0]) * (RefCT.Rows))\n",
    "CTReconDiameter"
   ]
  },
  {
   "cell_type": "code",
   "execution_count": null,
   "metadata": {},
   "outputs": [],
   "source": [
    "# Get ref file\n",
    "RefPET = dicom.read_file(lstFilesDCM_PET[0])\n",
    "# Load dimensions based on the number of rows, columns, and slices (along the Z axis)\n",
    "ConstPixelDims_PET = (int(RefPET.Rows), int(RefPET.Columns), len(lstFilesDCM_PET))\n",
    "# Load spacing values (in mm)\n",
    "ConstPixelSpacing_PET = (float(RefPET.PixelSpacing[0]), float(RefPET.PixelSpacing[1]), float(RefPET.SliceThickness))\n",
    "\n",
    "PETReconDiameter = round((RefPET.PixelSpacing[0]) * (RefPET.Rows))\n",
    "PETReconDiameter"
   ]
  },
  {
   "cell_type": "code",
   "execution_count": null,
   "metadata": {},
   "outputs": [],
   "source": []
  },
  {
   "cell_type": "code",
   "execution_count": null,
   "metadata": {},
   "outputs": [],
   "source": []
  },
  {
   "cell_type": "code",
   "execution_count": null,
   "metadata": {},
   "outputs": [],
   "source": []
  },
  {
   "cell_type": "code",
   "execution_count": null,
   "metadata": {},
   "outputs": [],
   "source": [
    "#print(RefCT)"
   ]
  },
  {
   "cell_type": "code",
   "execution_count": null,
   "metadata": {},
   "outputs": [],
   "source": [
    "RescaleIntercept = int(RefCT.RescaleIntercept)\n",
    "print(RescaleIntercept)"
   ]
  },
  {
   "cell_type": "code",
   "execution_count": null,
   "metadata": {},
   "outputs": [],
   "source": [
    "# The array is sized based on 'ConstPixelDims'\n",
    "a_CT = np.zeros(ConstPixelDims[2])\n",
    "i=0\n",
    "# loop through all the DICOM files, reading the slice numbers to array\n",
    "for filenameDCM in lstFilesDCM_CT:\n",
    "    dsCT = dicom.read_file(filenameDCM)\n",
    "    sliceNumber = dsCT.ImagePositionPatient[2]\n",
    "    a_CT[i] = sliceNumber\n",
    "    i=i+1"
   ]
  },
  {
   "cell_type": "code",
   "execution_count": null,
   "metadata": {},
   "outputs": [],
   "source": [
    "a_CT"
   ]
  },
  {
   "cell_type": "code",
   "execution_count": null,
   "metadata": {},
   "outputs": [],
   "source": [
    "b_CT = np.sort(a_CT, axis=-1, kind='quicksort', order=None) #element 0 is inf-most slice"
   ]
  },
  {
   "cell_type": "code",
   "execution_count": null,
   "metadata": {},
   "outputs": [],
   "source": [
    "b_CT"
   ]
  },
  {
   "cell_type": "code",
   "execution_count": null,
   "metadata": {},
   "outputs": [],
   "source": [
    "# The array is sized based on 'ConstPixelDims'\n",
    "ArrayCT = np.zeros(ConstPixelDims, dtype=RefCT.pixel_array.dtype)\n",
    "ArrayCTNew = np.zeros(ConstPixelDims, dtype=RefCT.pixel_array.dtype)\n",
    "# loop through all the DICOM files and place data in the correct place according to slice position\n",
    "for filenameDCM in lstFilesDCM_CT:\n",
    "    # read the file\n",
    "    dsCT = dicom.read_file(filenameDCM)\n",
    "    sliceNumber = dsCT.ImagePositionPatient[2]\n",
    "    result = np.where(b_CT == sliceNumber) #to print this number use result[0][0]\n",
    "    print(result[0][0])\n",
    "    \n",
    "    # store the raw image data\n",
    "    ArrayCT[:, :, result[0][0]] = dsCT.pixel_array\n",
    "\n",
    "#ArrayCTNew = ArrayCTNew + RescaleIntercept # This is important as it converts back to HU using RescaleIntercept\n",
    "#Think this is done later ..."
   ]
  },
  {
   "cell_type": "code",
   "execution_count": null,
   "metadata": {},
   "outputs": [],
   "source": [
    "np.shape(ArrayCT)"
   ]
  },
  {
   "cell_type": "code",
   "execution_count": null,
   "metadata": {},
   "outputs": [],
   "source": [
    "plt.pcolormesh(ArrayCT[:,:,100])\n",
    "plt.colorbar()"
   ]
  },
  {
   "cell_type": "code",
   "execution_count": null,
   "metadata": {},
   "outputs": [],
   "source": [
    "np.min(ArrayCT)"
   ]
  },
  {
   "cell_type": "code",
   "execution_count": null,
   "metadata": {},
   "outputs": [],
   "source": [
    "plt.plot(ArrayCT[250,:,100])"
   ]
  },
  {
   "cell_type": "code",
   "execution_count": null,
   "metadata": {},
   "outputs": [],
   "source": [
    "ArrayCT = ArrayCT+RescaleIntercept"
   ]
  },
  {
   "cell_type": "code",
   "execution_count": null,
   "metadata": {},
   "outputs": [],
   "source": [
    "plt.plot(ArrayCT[300,:,100])"
   ]
  },
  {
   "cell_type": "code",
   "execution_count": null,
   "metadata": {},
   "outputs": [],
   "source": [
    "ArrayCT[ArrayCT < -1000] = -1000"
   ]
  },
  {
   "cell_type": "code",
   "execution_count": null,
   "metadata": {},
   "outputs": [],
   "source": [
    "plt.plot(ArrayCT[300,:,100])"
   ]
  },
  {
   "cell_type": "code",
   "execution_count": null,
   "metadata": {},
   "outputs": [],
   "source": [
    "plt.pcolormesh(ArrayCT[:,:,100])\n",
    "plt.colorbar()"
   ]
  },
  {
   "cell_type": "code",
   "execution_count": null,
   "metadata": {},
   "outputs": [],
   "source": [
    "# The array is sized based on 'ConstPixelDims'\n",
    "a_PET = np.zeros(ConstPixelDims_PET[2])\n",
    "i=0\n",
    "# loop through all the DICOM files, reading the slice numbers to array\n",
    "for filenameDCM in lstFilesDCM_PET:\n",
    "    dsPET = dicom.read_file(filenameDCM)\n",
    "    sliceNumber = dsPET.ImagePositionPatient[2]\n",
    "    a_PET[i] = sliceNumber\n",
    "    i=i+1"
   ]
  },
  {
   "cell_type": "code",
   "execution_count": null,
   "metadata": {},
   "outputs": [],
   "source": [
    "a_PET"
   ]
  },
  {
   "cell_type": "code",
   "execution_count": null,
   "metadata": {},
   "outputs": [],
   "source": [
    "b_PET = np.sort(a_PET, axis=-1, kind='quicksort', order=None) #element 0 is inf-most slice"
   ]
  },
  {
   "cell_type": "code",
   "execution_count": null,
   "metadata": {},
   "outputs": [],
   "source": [
    "b_PET"
   ]
  },
  {
   "cell_type": "code",
   "execution_count": null,
   "metadata": {},
   "outputs": [],
   "source": [
    "# The array is sized based on 'ConstPixelDims'\n",
    "ArrayPET = np.zeros(ConstPixelDims_PET, dtype=RefPET.pixel_array.dtype)\n",
    "\n",
    "# loop through all the DICOM files and place data in the correct place according to slice position\n",
    "for filenameDCM in lstFilesDCM_PET:\n",
    "    # read the file\n",
    "    dsPET = dicom.read_file(filenameDCM)\n",
    "    sliceNumber = dsPET.ImagePositionPatient[2]\n",
    "    result = np.where(b_PET == sliceNumber) #to print this number use result[0][0]\n",
    "    print(result[0][0])\n",
    "    \n",
    "    # store the raw image data\n",
    "    ArrayPET[:, :, result[0][0]] = dsPET.pixel_array"
   ]
  },
  {
   "cell_type": "code",
   "execution_count": null,
   "metadata": {},
   "outputs": [],
   "source": [
    "np.shape(ArrayPET)"
   ]
  },
  {
   "cell_type": "code",
   "execution_count": null,
   "metadata": {},
   "outputs": [],
   "source": [
    "ArrayCT[250,250,55]"
   ]
  },
  {
   "cell_type": "code",
   "execution_count": null,
   "metadata": {},
   "outputs": [],
   "source": [
    "ArrayCT.dtype"
   ]
  },
  {
   "cell_type": "code",
   "execution_count": null,
   "metadata": {},
   "outputs": [],
   "source": [
    "fig = plt.figure(figsize=(16, 8))\n",
    "plt.subplot(1,2,1)\n",
    "plt.pcolormesh(ArrayCT[:,:,55])\n",
    "plt.colorbar()\n",
    "plt.subplot(1,2,2)\n",
    "plt.pcolormesh(ArrayPET[:,:,55])\n",
    "plt.colorbar()"
   ]
  },
  {
   "cell_type": "code",
   "execution_count": null,
   "metadata": {},
   "outputs": [],
   "source": [
    "ArrayCTNew = np.zeros((ConstPixelDims[2],1,ConstPixelDims[0],ConstPixelDims[1]), dtype=ArrayCT.dtype)\n",
    "\n",
    "for i in range(0,ConstPixelDims[2]):\n",
    "    ArrayCTNew[i,0,:,:] =  ArrayCT[:,:,i]\n",
    "    ArrayCTNewRot = np.rot90(ArrayCTNew[i,0,:,:],2)\n",
    "    ArrayCTNewRotFlip = np.fliplr(ArrayCTNewRot)\n",
    "    ArrayCTNew[i,0,:,:] = ArrayCTNewRotFlip"
   ]
  },
  {
   "cell_type": "code",
   "execution_count": null,
   "metadata": {},
   "outputs": [],
   "source": [
    "ArrayPETNew = np.zeros((ConstPixelDims_PET[2],1,ConstPixelDims_PET[0],ConstPixelDims_PET[1]), dtype=ArrayPET.dtype)\n",
    "\n",
    "for i in range(0,ConstPixelDims_PET[2]):\n",
    "    ArrayPETNew[i,0,:,:] =  ArrayPET[:,:,i]\n",
    "    ArrayPETNewRot = np.rot90(ArrayPETNew[i,0,:,:],2)\n",
    "    ArrayPETNewRotFlip = np.fliplr(ArrayPETNewRot)\n",
    "    ArrayPETNew[i,0,:,:] = ArrayPETNewRotFlip"
   ]
  },
  {
   "cell_type": "code",
   "execution_count": null,
   "metadata": {},
   "outputs": [],
   "source": [
    "fig = plt.figure(figsize=(16, 8))\n",
    "plt.subplot(1,2,1)\n",
    "plt.pcolormesh(ArrayCTNew[55,0,:,:])\n",
    "plt.colorbar()\n",
    "plt.subplot(1,2,2)\n",
    "plt.pcolormesh(ArrayPETNew[55,0,:,:])\n",
    "plt.colorbar()"
   ]
  }
 ],
 "metadata": {
  "kernelspec": {
   "display_name": "Python (tensorflowChris)",
   "language": "python",
   "name": "myenv"
  },
  "language_info": {
   "codemirror_mode": {
    "name": "ipython",
    "version": 3
   },
   "file_extension": ".py",
   "mimetype": "text/x-python",
   "name": "python",
   "nbconvert_exporter": "python",
   "pygments_lexer": "ipython3",
   "version": "3.5.6"
  }
 },
 "nbformat": 4,
 "nbformat_minor": 2
}
